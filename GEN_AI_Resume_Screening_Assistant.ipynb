{
  "nbformat": 4,
  "nbformat_minor": 0,
  "metadata": {
    "colab": {
      "provenance": [],
      "authorship_tag": "ABX9TyO6bSBPOOUdLTnx0WHQNkKb",
      "include_colab_link": true
    },
    "kernelspec": {
      "name": "python3",
      "display_name": "Python 3"
    },
    "language_info": {
      "name": "python"
    }
  },
  "cells": [
    {
      "cell_type": "markdown",
      "metadata": {
        "id": "view-in-github",
        "colab_type": "text"
      },
      "source": [
        "<a href=\"https://colab.research.google.com/github/JahnaviPonna/AI-Based-Resume-Screening-Assistant/blob/main/GEN_AI_Resume_Screening_Assistant.ipynb\" target=\"_parent\"><img src=\"https://colab.research.google.com/assets/colab-badge.svg\" alt=\"Open In Colab\"/></a>"
      ]
    },
    {
      "cell_type": "code",
      "execution_count": null,
      "metadata": {
        "colab": {
          "base_uri": "https://localhost:8080/"
        },
        "id": "TO_MMktEAGyh",
        "outputId": "b12177de-dfb5-4d18-8460-f59bc66500ac"
      },
      "outputs": [
        {
          "output_type": "stream",
          "name": "stdout",
          "text": [
            "Requirement already satisfied: PyPDF2 in /usr/local/lib/python3.11/dist-packages (3.0.1)\n",
            "Requirement already satisfied: sentence-transformers in /usr/local/lib/python3.11/dist-packages (4.1.0)\n",
            "Requirement already satisfied: pandas in /usr/local/lib/python3.11/dist-packages (2.3.0)\n",
            "Requirement already satisfied: matplotlib in /usr/local/lib/python3.11/dist-packages (3.10.3)\n",
            "Requirement already satisfied: transformers<5.0.0,>=4.41.0 in /usr/local/lib/python3.11/dist-packages (from sentence-transformers) (4.52.4)\n",
            "Requirement already satisfied: tqdm in /usr/local/lib/python3.11/dist-packages (from sentence-transformers) (4.67.1)\n",
            "Requirement already satisfied: torch>=1.11.0 in /usr/local/lib/python3.11/dist-packages (from sentence-transformers) (2.6.0+cu124)\n",
            "Requirement already satisfied: scikit-learn in /usr/local/lib/python3.11/dist-packages (from sentence-transformers) (1.6.1)\n",
            "Requirement already satisfied: scipy in /usr/local/lib/python3.11/dist-packages (from sentence-transformers) (1.15.3)\n",
            "Requirement already satisfied: huggingface-hub>=0.20.0 in /usr/local/lib/python3.11/dist-packages (from sentence-transformers) (0.33.0)\n",
            "Requirement already satisfied: Pillow in /usr/local/lib/python3.11/dist-packages (from sentence-transformers) (11.2.1)\n",
            "Requirement already satisfied: typing_extensions>=4.5.0 in /usr/local/lib/python3.11/dist-packages (from sentence-transformers) (4.14.0)\n",
            "Requirement already satisfied: numpy>=1.23.2 in /usr/local/lib/python3.11/dist-packages (from pandas) (2.0.2)\n",
            "Requirement already satisfied: python-dateutil>=2.8.2 in /usr/local/lib/python3.11/dist-packages (from pandas) (2.9.0.post0)\n",
            "Requirement already satisfied: pytz>=2020.1 in /usr/local/lib/python3.11/dist-packages (from pandas) (2025.2)\n",
            "Requirement already satisfied: tzdata>=2022.7 in /usr/local/lib/python3.11/dist-packages (from pandas) (2025.2)\n",
            "Requirement already satisfied: contourpy>=1.0.1 in /usr/local/lib/python3.11/dist-packages (from matplotlib) (1.3.2)\n",
            "Requirement already satisfied: cycler>=0.10 in /usr/local/lib/python3.11/dist-packages (from matplotlib) (0.12.1)\n",
            "Requirement already satisfied: fonttools>=4.22.0 in /usr/local/lib/python3.11/dist-packages (from matplotlib) (4.58.4)\n",
            "Requirement already satisfied: kiwisolver>=1.3.1 in /usr/local/lib/python3.11/dist-packages (from matplotlib) (1.4.8)\n",
            "Requirement already satisfied: packaging>=20.0 in /usr/local/lib/python3.11/dist-packages (from matplotlib) (24.2)\n",
            "Requirement already satisfied: pyparsing>=2.3.1 in /usr/local/lib/python3.11/dist-packages (from matplotlib) (3.2.3)\n",
            "Requirement already satisfied: filelock in /usr/local/lib/python3.11/dist-packages (from huggingface-hub>=0.20.0->sentence-transformers) (3.18.0)\n",
            "Requirement already satisfied: fsspec>=2023.5.0 in /usr/local/lib/python3.11/dist-packages (from huggingface-hub>=0.20.0->sentence-transformers) (2025.3.2)\n",
            "Requirement already satisfied: pyyaml>=5.1 in /usr/local/lib/python3.11/dist-packages (from huggingface-hub>=0.20.0->sentence-transformers) (6.0.2)\n",
            "Requirement already satisfied: requests in /usr/local/lib/python3.11/dist-packages (from huggingface-hub>=0.20.0->sentence-transformers) (2.32.3)\n",
            "Requirement already satisfied: hf-xet<2.0.0,>=1.1.2 in /usr/local/lib/python3.11/dist-packages (from huggingface-hub>=0.20.0->sentence-transformers) (1.1.3)\n",
            "Requirement already satisfied: six>=1.5 in /usr/local/lib/python3.11/dist-packages (from python-dateutil>=2.8.2->pandas) (1.17.0)\n",
            "Requirement already satisfied: networkx in /usr/local/lib/python3.11/dist-packages (from torch>=1.11.0->sentence-transformers) (3.5)\n",
            "Requirement already satisfied: jinja2 in /usr/local/lib/python3.11/dist-packages (from torch>=1.11.0->sentence-transformers) (3.1.6)\n",
            "Requirement already satisfied: nvidia-cuda-nvrtc-cu12==12.4.127 in /usr/local/lib/python3.11/dist-packages (from torch>=1.11.0->sentence-transformers) (12.4.127)\n",
            "Requirement already satisfied: nvidia-cuda-runtime-cu12==12.4.127 in /usr/local/lib/python3.11/dist-packages (from torch>=1.11.0->sentence-transformers) (12.4.127)\n",
            "Requirement already satisfied: nvidia-cuda-cupti-cu12==12.4.127 in /usr/local/lib/python3.11/dist-packages (from torch>=1.11.0->sentence-transformers) (12.4.127)\n",
            "Requirement already satisfied: nvidia-cudnn-cu12==9.1.0.70 in /usr/local/lib/python3.11/dist-packages (from torch>=1.11.0->sentence-transformers) (9.1.0.70)\n",
            "Requirement already satisfied: nvidia-cublas-cu12==12.4.5.8 in /usr/local/lib/python3.11/dist-packages (from torch>=1.11.0->sentence-transformers) (12.4.5.8)\n",
            "Requirement already satisfied: nvidia-cufft-cu12==11.2.1.3 in /usr/local/lib/python3.11/dist-packages (from torch>=1.11.0->sentence-transformers) (11.2.1.3)\n",
            "Requirement already satisfied: nvidia-curand-cu12==10.3.5.147 in /usr/local/lib/python3.11/dist-packages (from torch>=1.11.0->sentence-transformers) (10.3.5.147)\n",
            "Requirement already satisfied: nvidia-cusolver-cu12==11.6.1.9 in /usr/local/lib/python3.11/dist-packages (from torch>=1.11.0->sentence-transformers) (11.6.1.9)\n",
            "Requirement already satisfied: nvidia-cusparse-cu12==12.3.1.170 in /usr/local/lib/python3.11/dist-packages (from torch>=1.11.0->sentence-transformers) (12.3.1.170)\n",
            "Requirement already satisfied: nvidia-cusparselt-cu12==0.6.2 in /usr/local/lib/python3.11/dist-packages (from torch>=1.11.0->sentence-transformers) (0.6.2)\n",
            "Requirement already satisfied: nvidia-nccl-cu12==2.21.5 in /usr/local/lib/python3.11/dist-packages (from torch>=1.11.0->sentence-transformers) (2.21.5)\n",
            "Requirement already satisfied: nvidia-nvtx-cu12==12.4.127 in /usr/local/lib/python3.11/dist-packages (from torch>=1.11.0->sentence-transformers) (12.4.127)\n",
            "Requirement already satisfied: nvidia-nvjitlink-cu12==12.4.127 in /usr/local/lib/python3.11/dist-packages (from torch>=1.11.0->sentence-transformers) (12.4.127)\n",
            "Requirement already satisfied: triton==3.2.0 in /usr/local/lib/python3.11/dist-packages (from torch>=1.11.0->sentence-transformers) (3.2.0)\n",
            "Requirement already satisfied: sympy==1.13.1 in /usr/local/lib/python3.11/dist-packages (from torch>=1.11.0->sentence-transformers) (1.13.1)\n",
            "Requirement already satisfied: mpmath<1.4,>=1.1.0 in /usr/local/lib/python3.11/dist-packages (from sympy==1.13.1->torch>=1.11.0->sentence-transformers) (1.3.0)\n",
            "Requirement already satisfied: regex!=2019.12.17 in /usr/local/lib/python3.11/dist-packages (from transformers<5.0.0,>=4.41.0->sentence-transformers) (2024.11.6)\n",
            "Requirement already satisfied: tokenizers<0.22,>=0.21 in /usr/local/lib/python3.11/dist-packages (from transformers<5.0.0,>=4.41.0->sentence-transformers) (0.21.1)\n",
            "Requirement already satisfied: safetensors>=0.4.3 in /usr/local/lib/python3.11/dist-packages (from transformers<5.0.0,>=4.41.0->sentence-transformers) (0.5.3)\n",
            "Requirement already satisfied: joblib>=1.2.0 in /usr/local/lib/python3.11/dist-packages (from scikit-learn->sentence-transformers) (1.5.1)\n",
            "Requirement already satisfied: threadpoolctl>=3.1.0 in /usr/local/lib/python3.11/dist-packages (from scikit-learn->sentence-transformers) (3.6.0)\n",
            "Requirement already satisfied: MarkupSafe>=2.0 in /usr/local/lib/python3.11/dist-packages (from jinja2->torch>=1.11.0->sentence-transformers) (3.0.2)\n",
            "Requirement already satisfied: charset-normalizer<4,>=2 in /usr/local/lib/python3.11/dist-packages (from requests->huggingface-hub>=0.20.0->sentence-transformers) (3.4.2)\n",
            "Requirement already satisfied: idna<4,>=2.5 in /usr/local/lib/python3.11/dist-packages (from requests->huggingface-hub>=0.20.0->sentence-transformers) (3.10)\n",
            "Requirement already satisfied: urllib3<3,>=1.21.1 in /usr/local/lib/python3.11/dist-packages (from requests->huggingface-hub>=0.20.0->sentence-transformers) (2.4.0)\n",
            "Requirement already satisfied: certifi>=2017.4.17 in /usr/local/lib/python3.11/dist-packages (from requests->huggingface-hub>=0.20.0->sentence-transformers) (2025.6.15)\n"
          ]
        }
      ],
      "source": [
        "!pip install -U PyPDF2 sentence-transformers pandas matplotlib\n"
      ]
    },
    {
      "cell_type": "code",
      "source": [
        "# !pip install fuzzywuzzy[speedup]\n"
      ],
      "metadata": {
        "colab": {
          "base_uri": "https://localhost:8080/"
        },
        "id": "xH5MOERKVqq5",
        "outputId": "f84a2c21-1326-46ee-ec06-d3da47a13ddf"
      },
      "execution_count": null,
      "outputs": [
        {
          "output_type": "stream",
          "name": "stdout",
          "text": [
            "Requirement already satisfied: fuzzywuzzy[speedup] in /usr/local/lib/python3.11/dist-packages (0.18.0)\n",
            "Requirement already satisfied: python-levenshtein>=0.12 in /usr/local/lib/python3.11/dist-packages (from fuzzywuzzy[speedup]) (0.27.1)\n",
            "Requirement already satisfied: Levenshtein==0.27.1 in /usr/local/lib/python3.11/dist-packages (from python-levenshtein>=0.12->fuzzywuzzy[speedup]) (0.27.1)\n",
            "Requirement already satisfied: rapidfuzz<4.0.0,>=3.9.0 in /usr/local/lib/python3.11/dist-packages (from Levenshtein==0.27.1->python-levenshtein>=0.12->fuzzywuzzy[speedup]) (3.13.0)\n"
          ]
        }
      ]
    },
    {
      "cell_type": "code",
      "source": [
        "import os\n",
        "# import re\n",
        "import PyPDF2\n",
        "import pandas as pd\n",
        "import matplotlib.pyplot as plt\n",
        "from sentence_transformers import SentenceTransformer, util\n",
        "from google.colab import files\n"
      ],
      "metadata": {
        "id": "RlKq8ke1BLWi"
      },
      "execution_count": null,
      "outputs": []
    },
    {
      "cell_type": "code",
      "source": [
        "uploaded = files.upload()\n",
        "\n",
        "def extract_text_from_pdf(file_path):\n",
        "    text = ''\n",
        "    with open(file_path, 'rb') as f:\n",
        "        reader = PyPDF2.PdfReader(f)\n",
        "        for page in reader.pages:\n",
        "            content = page.extract_text()\n",
        "            if content:\n",
        "                text += content + \" \"\n",
        "    return text.strip()\n",
        "\n",
        "resume_data = []\n",
        "\n",
        "for file_name in uploaded:\n",
        "    if file_name.lower().endswith('.pdf'):\n",
        "        text = extract_text_from_pdf(file_name)\n",
        "        resume_data.append({\n",
        "            'filename': file_name,\n",
        "            'content': text\n",
        "        })\n",
        "\n",
        "df = pd.DataFrame(resume_data)\n",
        "\n"
      ],
      "metadata": {
        "colab": {
          "base_uri": "https://localhost:8080/",
          "height": 176
        },
        "id": "m96BS0KwBV8e",
        "outputId": "df9e6c92-db36-44b9-bd8f-c9fa175bb562"
      },
      "execution_count": null,
      "outputs": [
        {
          "output_type": "display_data",
          "data": {
            "text/plain": [
              "<IPython.core.display.HTML object>"
            ],
            "text/html": [
              "\n",
              "     <input type=\"file\" id=\"files-89fa858e-39b8-4c49-b7d8-3c4777a0c159\" name=\"files[]\" multiple disabled\n",
              "        style=\"border:none\" />\n",
              "     <output id=\"result-89fa858e-39b8-4c49-b7d8-3c4777a0c159\">\n",
              "      Upload widget is only available when the cell has been executed in the\n",
              "      current browser session. Please rerun this cell to enable.\n",
              "      </output>\n",
              "      <script>// Copyright 2017 Google LLC\n",
              "//\n",
              "// Licensed under the Apache License, Version 2.0 (the \"License\");\n",
              "// you may not use this file except in compliance with the License.\n",
              "// You may obtain a copy of the License at\n",
              "//\n",
              "//      http://www.apache.org/licenses/LICENSE-2.0\n",
              "//\n",
              "// Unless required by applicable law or agreed to in writing, software\n",
              "// distributed under the License is distributed on an \"AS IS\" BASIS,\n",
              "// WITHOUT WARRANTIES OR CONDITIONS OF ANY KIND, either express or implied.\n",
              "// See the License for the specific language governing permissions and\n",
              "// limitations under the License.\n",
              "\n",
              "/**\n",
              " * @fileoverview Helpers for google.colab Python module.\n",
              " */\n",
              "(function(scope) {\n",
              "function span(text, styleAttributes = {}) {\n",
              "  const element = document.createElement('span');\n",
              "  element.textContent = text;\n",
              "  for (const key of Object.keys(styleAttributes)) {\n",
              "    element.style[key] = styleAttributes[key];\n",
              "  }\n",
              "  return element;\n",
              "}\n",
              "\n",
              "// Max number of bytes which will be uploaded at a time.\n",
              "const MAX_PAYLOAD_SIZE = 100 * 1024;\n",
              "\n",
              "function _uploadFiles(inputId, outputId) {\n",
              "  const steps = uploadFilesStep(inputId, outputId);\n",
              "  const outputElement = document.getElementById(outputId);\n",
              "  // Cache steps on the outputElement to make it available for the next call\n",
              "  // to uploadFilesContinue from Python.\n",
              "  outputElement.steps = steps;\n",
              "\n",
              "  return _uploadFilesContinue(outputId);\n",
              "}\n",
              "\n",
              "// This is roughly an async generator (not supported in the browser yet),\n",
              "// where there are multiple asynchronous steps and the Python side is going\n",
              "// to poll for completion of each step.\n",
              "// This uses a Promise to block the python side on completion of each step,\n",
              "// then passes the result of the previous step as the input to the next step.\n",
              "function _uploadFilesContinue(outputId) {\n",
              "  const outputElement = document.getElementById(outputId);\n",
              "  const steps = outputElement.steps;\n",
              "\n",
              "  const next = steps.next(outputElement.lastPromiseValue);\n",
              "  return Promise.resolve(next.value.promise).then((value) => {\n",
              "    // Cache the last promise value to make it available to the next\n",
              "    // step of the generator.\n",
              "    outputElement.lastPromiseValue = value;\n",
              "    return next.value.response;\n",
              "  });\n",
              "}\n",
              "\n",
              "/**\n",
              " * Generator function which is called between each async step of the upload\n",
              " * process.\n",
              " * @param {string} inputId Element ID of the input file picker element.\n",
              " * @param {string} outputId Element ID of the output display.\n",
              " * @return {!Iterable<!Object>} Iterable of next steps.\n",
              " */\n",
              "function* uploadFilesStep(inputId, outputId) {\n",
              "  const inputElement = document.getElementById(inputId);\n",
              "  inputElement.disabled = false;\n",
              "\n",
              "  const outputElement = document.getElementById(outputId);\n",
              "  outputElement.innerHTML = '';\n",
              "\n",
              "  const pickedPromise = new Promise((resolve) => {\n",
              "    inputElement.addEventListener('change', (e) => {\n",
              "      resolve(e.target.files);\n",
              "    });\n",
              "  });\n",
              "\n",
              "  const cancel = document.createElement('button');\n",
              "  inputElement.parentElement.appendChild(cancel);\n",
              "  cancel.textContent = 'Cancel upload';\n",
              "  const cancelPromise = new Promise((resolve) => {\n",
              "    cancel.onclick = () => {\n",
              "      resolve(null);\n",
              "    };\n",
              "  });\n",
              "\n",
              "  // Wait for the user to pick the files.\n",
              "  const files = yield {\n",
              "    promise: Promise.race([pickedPromise, cancelPromise]),\n",
              "    response: {\n",
              "      action: 'starting',\n",
              "    }\n",
              "  };\n",
              "\n",
              "  cancel.remove();\n",
              "\n",
              "  // Disable the input element since further picks are not allowed.\n",
              "  inputElement.disabled = true;\n",
              "\n",
              "  if (!files) {\n",
              "    return {\n",
              "      response: {\n",
              "        action: 'complete',\n",
              "      }\n",
              "    };\n",
              "  }\n",
              "\n",
              "  for (const file of files) {\n",
              "    const li = document.createElement('li');\n",
              "    li.append(span(file.name, {fontWeight: 'bold'}));\n",
              "    li.append(span(\n",
              "        `(${file.type || 'n/a'}) - ${file.size} bytes, ` +\n",
              "        `last modified: ${\n",
              "            file.lastModifiedDate ? file.lastModifiedDate.toLocaleDateString() :\n",
              "                                    'n/a'} - `));\n",
              "    const percent = span('0% done');\n",
              "    li.appendChild(percent);\n",
              "\n",
              "    outputElement.appendChild(li);\n",
              "\n",
              "    const fileDataPromise = new Promise((resolve) => {\n",
              "      const reader = new FileReader();\n",
              "      reader.onload = (e) => {\n",
              "        resolve(e.target.result);\n",
              "      };\n",
              "      reader.readAsArrayBuffer(file);\n",
              "    });\n",
              "    // Wait for the data to be ready.\n",
              "    let fileData = yield {\n",
              "      promise: fileDataPromise,\n",
              "      response: {\n",
              "        action: 'continue',\n",
              "      }\n",
              "    };\n",
              "\n",
              "    // Use a chunked sending to avoid message size limits. See b/62115660.\n",
              "    let position = 0;\n",
              "    do {\n",
              "      const length = Math.min(fileData.byteLength - position, MAX_PAYLOAD_SIZE);\n",
              "      const chunk = new Uint8Array(fileData, position, length);\n",
              "      position += length;\n",
              "\n",
              "      const base64 = btoa(String.fromCharCode.apply(null, chunk));\n",
              "      yield {\n",
              "        response: {\n",
              "          action: 'append',\n",
              "          file: file.name,\n",
              "          data: base64,\n",
              "        },\n",
              "      };\n",
              "\n",
              "      let percentDone = fileData.byteLength === 0 ?\n",
              "          100 :\n",
              "          Math.round((position / fileData.byteLength) * 100);\n",
              "      percent.textContent = `${percentDone}% done`;\n",
              "\n",
              "    } while (position < fileData.byteLength);\n",
              "  }\n",
              "\n",
              "  // All done.\n",
              "  yield {\n",
              "    response: {\n",
              "      action: 'complete',\n",
              "    }\n",
              "  };\n",
              "}\n",
              "\n",
              "scope.google = scope.google || {};\n",
              "scope.google.colab = scope.google.colab || {};\n",
              "scope.google.colab._files = {\n",
              "  _uploadFiles,\n",
              "  _uploadFilesContinue,\n",
              "};\n",
              "})(self);\n",
              "</script> "
            ]
          },
          "metadata": {}
        },
        {
          "output_type": "stream",
          "name": "stdout",
          "text": [
            "Saving Jahnavi's Resume-hackerresume.pdf to Jahnavi's Resume-hackerresume (1).pdf\n",
            "Saving Varshitha Yadlapalli_CV.pdf to Varshitha Yadlapalli_CV (1).pdf\n",
            "Saving AlgoUniversity_hemanth_Resume_Template__1___Copy___Copy_.pdf to AlgoUniversity_hemanth_Resume_Template__1___Copy___Copy_ (1).pdf\n",
            "Saving Rahul_Resume.pdf to Rahul_Resume (1).pdf\n"
          ]
        }
      ]
    },
    {
      "cell_type": "code",
      "source": [
        "job_roles = {\n",
        "    \"Software Developer\": \"Java, C++, Python, software engineering, APIs, backend, frontend, frameworks\",\n",
        "    \"Data Scientist\": \"machine learning, pandas, statistics, Python, data analysis, visualization, models\",\n",
        "    \"Web Developer\": \"HTML, CSS, JavaScript, React, Node.js, web design, responsive layout\",\n",
        "    \"AI/ML Engineer\": \"deep learning, PyTorch, TensorFlow, model training, AI projects\",\n",
        "    \"UI/UX Designer\": \"Figma, Adobe XD, wireframes, user experience, prototyping, visual design\",\n",
        "    \"Cybersecurity Analyst\": \"penetration testing, firewalls, encryption, ethical hacking, risk analysis\",\n",
        "    \"Embedded Engineer\": \"microcontrollers, Arduino, embedded C, sensors, real-time systems\",\n",
        "    \"VLSI Design Engineer\": \"Verilog, VHDL, ASIC, FPGA, synthesis, layout, chip design\",\n",
        "    \"Mechanical Engineer\": \"CAD, SolidWorks, thermodynamics, mechanical design, manufacturing\",\n",
        "    \"Electrical Engineer\": \"circuit analysis, MATLAB, power systems, signal processing\",\n",
        "    \"Electronic Engineer\": \"digital circuits, semiconductors, embedded systems, PCB design\",\n",
        "    \"Software Tester\": \"manual testing, automation, Selenium, JUnit, bug reports\",\n",
        "    \"Chip Designer\": \"logic synthesis, physical design, layout, RTL coding, DFT\",\n",
        "    \"Ethical Hacker\": \"penetration testing, cybersecurity tools, network scanning, vulnerability testing\",\n",
        "    \"Network Engineer\": \"routers, switches, subnetting, network setup, protocols\",\n",
        "    \"Database Administrator\": \"MySQL, PostgreSQL, database design, indexing, queries, backups\",\n",
        "    \"Systems Analyst\": \"requirements analysis, process modeling, system specs, IT solutions\",\n",
        "    \"Technical Consultant\": \"IT advisory, solution design, client engagement, enterprise systems\",\n",
        "    \"Business Analyst\": \"business requirements, stakeholder analysis, process optimization, documentation\",\n",
        "    \"Quality Assurance Engineer\": \"QA testing, test plans, automation, validation\",\n",
        "    \"DevOps Engineer\": \"CI/CD, Jenkins, Docker, Kubernetes, version control, automation\",\n",
        "    \"Cloud Engineer\": \"AWS, Azure, GCP, cloud architecture, deployment\",\n",
        "    \"Data Analyst\": \"data cleaning, Excel, SQL, visualization, business insights\",\n",
        "    \"Research Scientist\": \"literature review, experiments, scientific method, publication, analysis\",\n",
        "    \"Technical Writer\": \"documentation, user manuals, API docs, clear writing\",\n",
        "    \"Sales Engineer\": \"client demos, product knowledge, tech specs, sales cycle\",\n",
        "    \"Field Engineer\": \"on-site setup, troubleshooting, technical support\",\n",
        "    \"Operations Manager\": \"logistics, workflows, efficiency, process improvement\",\n",
        "    \"Supply Chain Manager\": \"inventory, procurement, distribution, demand planning\",\n",
        "    \"Consultant\": \"strategic advisory, domain expertise, transformation, analysis\",\n",
        "    \"Entrepreneur\": \"startup, product development, pitching, growth, leadership\",\n",
        "    \"Professor/Educator\": \"teaching, curriculum, mentoring, academic projects\"\n",
        "}\n",
        "\n",
        "\n",
        "# def generate_prompt(resume_text):\n",
        "#     prompt = f\"\"\"\n",
        "# You are an AI assistant trained to classify resumes into job categories. Classify the following resume into **one of the roles below**, based on skills, projects, experience, and education.\n",
        "\n",
        "# Job Categories:\n",
        "# - Software Developer\n",
        "# - Machine Learning Engineer\n",
        "# - Data Scientist\n",
        "# - Full Stack Developer\n",
        "# - Frontend Developer\n",
        "# - Backend Developer\n",
        "# - Embedded Systems Engineer\n",
        "# - Electrical Engineer\n",
        "# - Electronics Engineer\n",
        "# - UI/UX Designer\n",
        "# - Cybersecurity Analyst\n",
        "# - HR Manager\n",
        "# - Systems Analyst\n",
        "# - Database Administrator\n",
        "# - DevOps Engineer\n",
        "# - Cloud Engineer\n",
        "# - Research Scientist\n",
        "# - Entrepreneur\n",
        "# - Educator/Professor\n",
        "# - Business Analyst\n",
        "\n",
        "# Respond with **only one most suitable role**. No explanations.\n",
        "\n",
        "# Resume:\n",
        "# \\\"\\\"\\\"\n",
        "# {resume_text[:5000]}\n",
        "# \\\"\\\"\\\"\n",
        "# \"\"\"\n",
        "#     return prompt\n"
      ],
      "metadata": {
        "id": "K9w_9M8-B3QY"
      },
      "execution_count": null,
      "outputs": []
    },
    {
      "cell_type": "code",
      "source": [
        "model = SentenceTransformer('all-MiniLM-L6-v2')\n",
        "\n",
        "role_embeddings = {role: model.encode(desc, convert_to_tensor=True) for role, desc in job_roles.items()}\n"
      ],
      "metadata": {
        "id": "I2lzYsxYB7ZT"
      },
      "execution_count": null,
      "outputs": []
    },
    {
      "cell_type": "code",
      "source": [
        "# def classify_resume(text):\n",
        "#     resume_embedding = model.encode(text[:6000], convert_to_tensor=True)  # Use first 3000 chars\n",
        "#     similarities = {\n",
        "#         role: util.cos_sim(resume_embedding, embedding).item()\n",
        "#         for role, embedding in role_embeddings.items()\n",
        "#     }\n",
        "#     best_match = max(similarities, key=similarities.get)\n",
        "#     return best_match\n",
        "\n",
        "# df['category'] = df['content'].apply(classify_resume)\n",
        "\n",
        "\n",
        "#**Use this part for model if the below 3rd one doesn't works out**\n",
        "\n",
        "# def classify_resume(text):\n",
        "#     text = text[:6000]  # Limit to avoid long texts\n",
        "#     resume_embedding = model.encode(text, convert_to_tensor=True)\n",
        "#     similarities = {\n",
        "#         role: util.cos_sim(resume_embedding, embedding).item()\n",
        "#         for role, embedding in role_embeddings.items()\n",
        "#     }\n",
        "#     return max(similarities, key=similarities.get)\n",
        "\n",
        "# df['category'] = df['content'].apply(classify_resume)\n",
        "\n",
        "\n",
        "def classify_resume_with_reason(text):\n",
        "    text = text[:6000].lower()\n",
        "    resume_embedding = model.encode(text, convert_to_tensor=True)\n",
        "    similarities = {}\n",
        "    match_keywords = {}\n",
        "\n",
        "    for role, desc in job_roles.items():\n",
        "        embedding = role_embeddings[role]\n",
        "        sim_score = util.cos_sim(resume_embedding, embedding).item()\n",
        "        similarities[role] = sim_score\n",
        "\n",
        "        # Match keywords (for explanation)\n",
        "        keywords = [kw.strip().lower() for kw in desc.split(',')]\n",
        "        from fuzzywuzzy import fuzz\n",
        "        matched = [kw for kw in keywords if fuzz.partial_ratio(kw, text) > 85]\n",
        "\n",
        "\n",
        "        match_keywords[role] = matched\n",
        "\n",
        "    best_role = max(similarities, key=similarities.get)\n",
        "    rationale = f\"Matched terms: {', '.join(match_keywords[best_role])}\" if match_keywords[best_role] else \"No specific terms matched\"\n",
        "    return best_role, rationale\n"
      ],
      "metadata": {
        "id": "qVYjGphbB_7v"
      },
      "execution_count": null,
      "outputs": []
    },
    {
      "cell_type": "code",
      "source": [
        "# from fuzzywuzzy import fuzz\n",
        "\n",
        "# def extract_matched_keywords(text, keywords, threshold=80):\n",
        "#     text = text.lower()\n",
        "#     matched = []\n",
        "#     for kw in keywords:\n",
        "#         kw_clean = kw.strip().lower()\n",
        "#         # Check if any word or phrase in the resume closely matches the keyword\n",
        "#         for word in text.split():\n",
        "#             if fuzz.partial_ratio(kw_clean, word) >= threshold:\n",
        "#                 matched.append(kw)\n",
        "#                 break  # Found match for this keyword, move to next\n",
        "#     return list(set(matched))  # remove duplicates\n"
      ],
      "metadata": {
        "id": "wQWGpzs0WwAS"
      },
      "execution_count": null,
      "outputs": []
    },
    {
      "cell_type": "code",
      "source": [
        "# for i, row in df.iterrows():\n",
        "#     print(f\"✅ '{row['filename']}' classified as ➤ {row['category']}\")\n",
        "\n",
        "\n",
        "df[['category', 'rationale']] = df['content'].apply(lambda text: pd.Series(classify_resume_with_reason(text)))\n",
        "\n",
        "for i, row in df.iterrows():\n",
        "    print(f\"✅ '{row['filename']}' classified as ➤ {row['category']}\")\n",
        "    print(f\"   🔎 Reason: {row['rationale']}\\n\")\n"
      ],
      "metadata": {
        "colab": {
          "base_uri": "https://localhost:8080/"
        },
        "id": "-QrA7L0ACFZz",
        "outputId": "7570b78b-952d-4c6e-ac17-fdcc6cbdcc90"
      },
      "execution_count": null,
      "outputs": [
        {
          "output_type": "stream",
          "name": "stdout",
          "text": [
            "✅ 'Jahnavi's Resume-hackerresume (1).pdf' classified as ➤ Systems Analyst\n",
            "   🔎 Reason: No specific terms matched\n",
            "\n",
            "✅ 'Varshitha Yadlapalli_CV (1).pdf' classified as ➤ Electrical Engineer\n",
            "   🔎 Reason: No specific terms matched\n",
            "\n",
            "✅ 'AlgoUniversity_hemanth_Resume_Template__1___Copy___Copy_ (1).pdf' classified as ➤ Software Developer\n",
            "   🔎 Reason: No specific terms matched\n",
            "\n",
            "✅ 'Rahul_Resume (1).pdf' classified as ➤ Electronic Engineer\n",
            "   🔎 Reason: No specific terms matched\n",
            "\n"
          ]
        }
      ]
    },
    {
      "cell_type": "code",
      "source": [
        "plt.figure(figsize=(12, 6))\n",
        "df['category'].value_counts().plot(kind='bar', color='cornflowerblue')\n",
        "plt.title(\"Resume Classification by Job Role\")\n",
        "plt.xlabel(\"Job Role\")\n",
        "plt.ylabel(\"Number of Candidates\")\n",
        "plt.xticks(rotation=45)\n",
        "plt.grid(axis='y')\n",
        "plt.tight_layout()\n",
        "plt.show()\n"
      ],
      "metadata": {
        "colab": {
          "base_uri": "https://localhost:8080/",
          "height": 607
        },
        "id": "vDK0ZspwCJnX",
        "outputId": "9c7591b5-3994-432c-e4c6-44d9f282d459"
      },
      "execution_count": null,
      "outputs": [
        {
          "output_type": "display_data",
          "data": {
            "text/plain": [
              "<Figure size 1200x600 with 1 Axes>"
            ],
            "image/png": "[encoded data removed]"
          },
          "metadata": {}
        }
      ]
    },
    {
      "cell_type": "code",
      "source": [
        "df[['filename', 'category']].to_csv('resume_classification_report.csv', index=False)\n",
        "files.download('resume_classification_report.csv')\n"
      ],
      "metadata": {
        "colab": {
          "base_uri": "https://localhost:8080/",
          "height": 17
        },
        "id": "0YA4nHSZCarg",
        "outputId": "44852828-dc54-433a-955f-7ddad6a40fd2"
      },
      "execution_count": null,
      "outputs": [
        {
          "output_type": "display_data",
          "data": {
            "text/plain": [
              "<IPython.core.display.Javascript object>"
            ],
            "application/javascript": [
              "\n",
              "    async function download(id, filename, size) {\n",
              "      if (!google.colab.kernel.accessAllowed) {\n",
              "        return;\n",
              "      }\n",
              "      const div = document.createElement('div');\n",
              "      const label = document.createElement('label');\n",
              "      label.textContent = `Downloading \"${filename}\": `;\n",
              "      div.appendChild(label);\n",
              "      const progress = document.createElement('progress');\n",
              "      progress.max = size;\n",
              "      div.appendChild(progress);\n",
              "      document.body.appendChild(div);\n",
              "\n",
              "      const buffers = [];\n",
              "      let downloaded = 0;\n",
              "\n",
              "      const channel = await google.colab.kernel.comms.open(id);\n",
              "      // Send a message to notify the kernel that we're ready.\n",
              "      channel.send({})\n",
              "\n",
              "      for await (const message of channel.messages) {\n",
              "        // Send a message to notify the kernel that we're ready.\n",
              "        channel.send({})\n",
              "        if (message.buffers) {\n",
              "          for (const buffer of message.buffers) {\n",
              "            buffers.push(buffer);\n",
              "            downloaded += buffer.byteLength;\n",
              "            progress.value = downloaded;\n",
              "          }\n",
              "        }\n",
              "      }\n",
              "      const blob = new Blob(buffers, {type: 'application/binary'});\n",
              "      const a = document.createElement('a');\n",
              "      a.href = window.URL.createObjectURL(blob);\n",
              "      a.download = filename;\n",
              "      div.appendChild(a);\n",
              "      a.click();\n",
              "      div.remove();\n",
              "    }\n",
              "  "
            ]
          },
          "metadata": {}
        },
        {
          "output_type": "display_data",
          "data": {
            "text/plain": [
              "<IPython.core.display.Javascript object>"
            ],
            "application/javascript": [
              "download(\"download_4a36b3da-6d10-4dfe-af73-c2fac3cf2273\", \"resume_classification_report.csv\", 249)"
            ]
          },
          "metadata": {}
        }
      ]
    },
    {
      "cell_type": "code",
      "source": [
        "# def classify_resume_with_reason(text):\n",
        "#     prompt = generate_explained_prompt(text)\n",
        "\n",
        "#     response = model.generate_content(prompt)\n",
        "#     output = response.text.strip()\n",
        "\n",
        "#     # Split Category and Rationale\n",
        "#     if \"Rationale:\" in output:\n",
        "#         category = output.split(\"Rationale:\")[0].replace(\"Category:\", \"\").strip()\n",
        "#         rationale = output.split(\"Rationale:\")[1].strip()\n",
        "#     else:\n",
        "#         category = \"Unknown\"\n",
        "#         rationale = \"Could not extract rationale.\"\n",
        "\n",
        "#     return category, rationale\n"
      ],
      "metadata": {
        "id": "AOJyhsWOTeI4"
      },
      "execution_count": null,
      "outputs": []
    }
  ]
}